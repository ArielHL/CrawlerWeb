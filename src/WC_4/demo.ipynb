{
 "cells": [
  {
   "cell_type": "code",
   "execution_count": 1,
   "metadata": {},
   "outputs": [],
   "source": [
    "import json\n",
    "from bs4 import BeautifulSoup\n",
    "import pandas as pd\n",
    "\n",
    "json_path=r'C:\\Users\\Ariel\\OneDrive\\Programacion\\REPOS\\CrawlerWeb\\companies\\VEA_NEW_5\\crawled.json'\n",
    "\n",
    "with open(json_path, 'r') as f:\n",
    "    dataJson=json.load(f)\n",
    "    \n",
    "url_list=dataJson['url']\n",
    "url_html_list=dataJson['html_string']\n",
    "\n",
    "url=url_list[1]\n",
    "html=url_html_list[1]"
   ]
  },
  {
   "cell_type": "code",
   "execution_count": 2,
   "metadata": {},
   "outputs": [
    {
     "data": {
      "text/plain": [
       "['Muestra Primaria - La Escuelita VEA',\n",
       " '',\n",
       " 'Toggle navigation',\n",
       " '',\n",
       " 'INSTITUCIONAL',\n",
       " 'Admisión 2023',\n",
       " 'Cronología',\n",
       " 'Noticias Institucionales',\n",
       " 'JARDÍN',\n",
       " 'Orígenes',\n",
       " 'Modelo Pedagógico',\n",
       " 'Muestras',\n",
       " 'Noticias',\n",
       " 'Staff',\n",
       " 'PRIMARIA',\n",
       " 'Orígenes',\n",
       " 'Modelo pedagógico',\n",
       " 'Muestras',\n",
       " 'Noticias',\n",
       " 'Staff',\n",
       " 'Contacto',\n",
       " 'INSTITUCIONAL',\n",
       " 'Admisión 2023',\n",
       " 'Cronología',\n",
       " 'Noticias Institucionales',\n",
       " 'JARDÍN',\n",
       " 'Orígenes',\n",
       " 'Modelo Pedagógico',\n",
       " 'Muestras',\n",
       " 'Noticias',\n",
       " 'Staff',\n",
       " 'PRIMARIA',\n",
       " 'Orígenes',\n",
       " 'Modelo pedagógico',\n",
       " 'Muestras',\n",
       " 'Noticias',\n",
       " 'Staff',\n",
       " 'Contacto',\n",
       " '',\n",
       " '',\n",
       " '',\n",
       " '',\n",
       " 'Muestra Primaria',\n",
       " 'La Escuelita VEA > Muestra Primaria',\n",
       " 'Primer Ciclo',\n",
       " 'Primer Ciclo',\n",
       " 'Galería de Trabajos',\n",
       " 'Segundo Ciclo',\n",
       " 'Segundo Ciclo',\n",
       " 'Galería de Trabajos',\n",
       " 'Primer Ciclo',\n",
       " 'Primer Ciclo',\n",
       " 'Galería de Trabajos',\n",
       " 'Segundo Ciclo',\n",
       " 'Segundo Ciclo',\n",
       " 'Galería de Trabajos',\n",
       " 'CONTACTO JARDÍN',\n",
       " '(011) 73694297',\n",
       " 'info@laescuelitavea.com.ar',\n",
       " 'Jorge Newbery 2950. CABA. CP 1426',\n",
       " '\\xa0',\n",
       " 'PRIMARIA',\n",
       " '(011) 73694297',\n",
       " 'info@laescuelitavea.com.ar',\n",
       " 'Jorge Newbery 2950. CABA. CP 1426',\n",
       " 'INSTITUCIONAL Orígenes',\n",
       " 'Carta Fundadora',\n",
       " 'Metodología',\n",
       " 'Cronología',\n",
       " 'ÚLTIMAS NOTICIAS',\n",
       " 'Encuentros en La Escuelita del primer ciclo de primaria',\n",
       " 'Agenda Primaria            ,',\n",
       " 'Encuentros en La Escuelita del segundo ciclo de primaria',\n",
       " 'Agenda Primaria            ,',\n",
       " 'Encuentros en La Escuelita Jardín',\n",
       " 'Agenda Jardín            ,',\n",
       " '',\n",
       " 'VEA Visión Educativa Antropológica, todos los derechos reservados. Creado por Santavecina',\n",
       " '',\n",
       " 'Buscar',\n",
       " 'Abrir chat',\n",
       " '']"
      ]
     },
     "execution_count": 2,
     "metadata": {},
     "output_type": "execute_result"
    }
   ],
   "source": [
    "soup = BeautifulSoup(html, 'html.parser')\n",
    "\n",
    "list_of_string = soup.text.split(\"\\n\")                                                          # get the text of the soup object\n",
    "first_string = [part_of_text.strip(\" \") for part_of_text in list_of_string if part_of_text] \n",
    "first_string"
   ]
  },
  {
   "cell_type": "code",
   "execution_count": 3,
   "metadata": {},
   "outputs": [
    {
     "data": {
      "text/html": [
       "<div>\n",
       "<style scoped>\n",
       "    .dataframe tbody tr th:only-of-type {\n",
       "        vertical-align: middle;\n",
       "    }\n",
       "\n",
       "    .dataframe tbody tr th {\n",
       "        vertical-align: top;\n",
       "    }\n",
       "\n",
       "    .dataframe thead th {\n",
       "        text-align: right;\n",
       "    }\n",
       "</style>\n",
       "<table border=\"1\" class=\"dataframe\">\n",
       "  <thead>\n",
       "    <tr style=\"text-align: right;\">\n",
       "      <th></th>\n",
       "      <th>Project</th>\n",
       "      <th>url_base</th>\n",
       "      <th>url</th>\n",
       "      <th>html_string</th>\n",
       "      <th>html_lang</th>\n",
       "    </tr>\n",
       "  </thead>\n",
       "  <tbody>\n",
       "    <tr>\n",
       "      <th>0</th>\n",
       "      <td>VEA_NEW_5</td>\n",
       "      <td>https://www.laescuelitavea.org.ar/</td>\n",
       "      <td>https://laescuelitavea.org.ar/muestra-primaria/</td>\n",
       "      <td>&lt;!DOCTYPE html&gt;\\n&lt;html lang=\"es\" id=\"arve\" cla...</td>\n",
       "      <td>es</td>\n",
       "    </tr>\n",
       "    <tr>\n",
       "      <th>1</th>\n",
       "      <td>VEA_NEW_5</td>\n",
       "      <td>https://www.laescuelitavea.org.ar/</td>\n",
       "      <td>http://laescuelitavea.org.ar/instalaciones-pri...</td>\n",
       "      <td>&lt;!DOCTYPE html&gt;\\n&lt;html lang=\"es\" id=\"arve\" cla...</td>\n",
       "      <td>es</td>\n",
       "    </tr>\n",
       "    <tr>\n",
       "      <th>2</th>\n",
       "      <td>VEA_NEW_5</td>\n",
       "      <td>https://www.laescuelitavea.org.ar/</td>\n",
       "      <td>https://laescuelitavea.org.ar/2020/11/20/encue...</td>\n",
       "      <td>&lt;!DOCTYPE html&gt;\\n&lt;html lang=\"es\" id=\"arve\" cla...</td>\n",
       "      <td>es</td>\n",
       "    </tr>\n",
       "  </tbody>\n",
       "</table>\n",
       "</div>"
      ],
      "text/plain": [
       "     Project                            url_base  \\\n",
       "0  VEA_NEW_5  https://www.laescuelitavea.org.ar/   \n",
       "1  VEA_NEW_5  https://www.laescuelitavea.org.ar/   \n",
       "2  VEA_NEW_5  https://www.laescuelitavea.org.ar/   \n",
       "\n",
       "                                                 url  \\\n",
       "0    https://laescuelitavea.org.ar/muestra-primaria/   \n",
       "1  http://laescuelitavea.org.ar/instalaciones-pri...   \n",
       "2  https://laescuelitavea.org.ar/2020/11/20/encue...   \n",
       "\n",
       "                                         html_string html_lang  \n",
       "0  <!DOCTYPE html>\\n<html lang=\"es\" id=\"arve\" cla...        es  \n",
       "1  <!DOCTYPE html>\\n<html lang=\"es\" id=\"arve\" cla...        es  \n",
       "2  <!DOCTYPE html>\\n<html lang=\"es\" id=\"arve\" cla...        es  "
      ]
     },
     "execution_count": 3,
     "metadata": {},
     "output_type": "execute_result"
    }
   ],
   "source": [
    "df=pd.read_json(json_path)\n",
    "df.head(3)"
   ]
  },
  {
   "cell_type": "code",
   "execution_count": 4,
   "metadata": {},
   "outputs": [
    {
     "name": "stderr",
     "output_type": "stream",
     "text": [
      "c:\\Users\\Ariel\\anaconda3\\envs\\PY311\\Lib\\site-packages\\tqdm\\auto.py:21: TqdmWarning: IProgress not found. Please update jupyter and ipywidgets. See https://ipywidgets.readthedocs.io/en/stable/user_install.html\n",
      "  from .autonotebook import tqdm as notebook_tqdm\n"
     ]
    }
   ],
   "source": [
    "import time\n",
    "import regex as re\n",
    "from bs4 import BeautifulSoup\n",
    "from swifter import set_defaults\n",
    "#import swifter\n",
    "from tqdm import tqdm\n",
    "import pandas as pd\n",
    "\n",
    "set_defaults(progress_bar=True,\n",
    "             allow_dask_on_strings=True,\n",
    "             force_parallel=True,\n",
    "             npartitions=64)\n",
    "tqdm.pandas()\n",
    "\n",
    "\n",
    "def html_to_text(html: str):\n",
    "    try:\n",
    "        soup = BeautifulSoup(html, 'html.parser')\n",
    "        text = soup.text\n",
    "\n",
    "        return text\n",
    "    except Exception:\n",
    "        #print(\"Error with html: \", html)\n",
    "        pass"
   ]
  },
  {
   "cell_type": "code",
   "execution_count": 5,
   "metadata": {},
   "outputs": [
    {
     "name": "stderr",
     "output_type": "stream",
     "text": [
      "Dask Apply: 100%|██████████| 19/19 [00:02<00:00,  6.42it/s]\n"
     ]
    }
   ],
   "source": [
    "df[\"text\"] = df.html_string.swifter.apply(lambda html: html_to_text(html))"
   ]
  },
  {
   "cell_type": "code",
   "execution_count": 6,
   "metadata": {},
   "outputs": [
    {
     "data": {
      "text/html": [
       "<div>\n",
       "<style scoped>\n",
       "    .dataframe tbody tr th:only-of-type {\n",
       "        vertical-align: middle;\n",
       "    }\n",
       "\n",
       "    .dataframe tbody tr th {\n",
       "        vertical-align: top;\n",
       "    }\n",
       "\n",
       "    .dataframe thead th {\n",
       "        text-align: right;\n",
       "    }\n",
       "</style>\n",
       "<table border=\"1\" class=\"dataframe\">\n",
       "  <thead>\n",
       "    <tr style=\"text-align: right;\">\n",
       "      <th></th>\n",
       "      <th>Project</th>\n",
       "      <th>url_base</th>\n",
       "      <th>url</th>\n",
       "      <th>html_string</th>\n",
       "      <th>html_lang</th>\n",
       "      <th>text</th>\n",
       "    </tr>\n",
       "  </thead>\n",
       "  <tbody>\n",
       "    <tr>\n",
       "      <th>0</th>\n",
       "      <td>VEA_NEW_5</td>\n",
       "      <td>https://www.laescuelitavea.org.ar/</td>\n",
       "      <td>https://laescuelitavea.org.ar/muestra-primaria/</td>\n",
       "      <td>&lt;!DOCTYPE html&gt;\\n&lt;html lang=\"es\" id=\"arve\" cla...</td>\n",
       "      <td>es</td>\n",
       "      <td>\\n\\n\\n\\n\\n\\n\\n\\n\\nLa Escuelita VEA - Visión Ed...</td>\n",
       "    </tr>\n",
       "    <tr>\n",
       "      <th>1</th>\n",
       "      <td>VEA_NEW_5</td>\n",
       "      <td>https://www.laescuelitavea.org.ar/</td>\n",
       "      <td>http://laescuelitavea.org.ar/instalaciones-pri...</td>\n",
       "      <td>&lt;!DOCTYPE html&gt;\\n&lt;html lang=\"es\" id=\"arve\" cla...</td>\n",
       "      <td>es</td>\n",
       "      <td>\\n\\n\\n\\n\\n\\n\\n\\n\\nMuestra Primaria - La Escuel...</td>\n",
       "    </tr>\n",
       "    <tr>\n",
       "      <th>2</th>\n",
       "      <td>VEA_NEW_5</td>\n",
       "      <td>https://www.laescuelitavea.org.ar/</td>\n",
       "      <td>https://laescuelitavea.org.ar/2020/11/20/encue...</td>\n",
       "      <td>&lt;!DOCTYPE html&gt;\\n&lt;html lang=\"es\" id=\"arve\" cla...</td>\n",
       "      <td>es</td>\n",
       "      <td>\\n\\n\\n\\n\\n\\n\\n\\n\\nInstalaciones Primaria - La ...</td>\n",
       "    </tr>\n",
       "  </tbody>\n",
       "</table>\n",
       "</div>"
      ],
      "text/plain": [
       "     Project                            url_base  \\\n",
       "0  VEA_NEW_5  https://www.laescuelitavea.org.ar/   \n",
       "1  VEA_NEW_5  https://www.laescuelitavea.org.ar/   \n",
       "2  VEA_NEW_5  https://www.laescuelitavea.org.ar/   \n",
       "\n",
       "                                                 url  \\\n",
       "0    https://laescuelitavea.org.ar/muestra-primaria/   \n",
       "1  http://laescuelitavea.org.ar/instalaciones-pri...   \n",
       "2  https://laescuelitavea.org.ar/2020/11/20/encue...   \n",
       "\n",
       "                                         html_string html_lang  \\\n",
       "0  <!DOCTYPE html>\\n<html lang=\"es\" id=\"arve\" cla...        es   \n",
       "1  <!DOCTYPE html>\\n<html lang=\"es\" id=\"arve\" cla...        es   \n",
       "2  <!DOCTYPE html>\\n<html lang=\"es\" id=\"arve\" cla...        es   \n",
       "\n",
       "                                                text  \n",
       "0  \\n\\n\\n\\n\\n\\n\\n\\n\\nLa Escuelita VEA - Visión Ed...  \n",
       "1  \\n\\n\\n\\n\\n\\n\\n\\n\\nMuestra Primaria - La Escuel...  \n",
       "2  \\n\\n\\n\\n\\n\\n\\n\\n\\nInstalaciones Primaria - La ...  "
      ]
     },
     "execution_count": 6,
     "metadata": {},
     "output_type": "execute_result"
    }
   ],
   "source": [
    "df.head(3)"
   ]
  },
  {
   "cell_type": "code",
   "execution_count": 10,
   "metadata": {},
   "outputs": [],
   "source": [
    "path=r'c:\\Users\\Ariel\\OneDrive\\Programacion\\REPOS\\CrawlerWeb\\Source\\Company_data.xlsx'\n",
    "df=pd.read_excel(path)\n",
    "    "
   ]
  },
  {
   "cell_type": "code",
   "execution_count": 11,
   "metadata": {},
   "outputs": [
    {
     "data": {
      "text/html": [
       "<div>\n",
       "<style scoped>\n",
       "    .dataframe tbody tr th:only-of-type {\n",
       "        vertical-align: middle;\n",
       "    }\n",
       "\n",
       "    .dataframe tbody tr th {\n",
       "        vertical-align: top;\n",
       "    }\n",
       "\n",
       "    .dataframe thead th {\n",
       "        text-align: right;\n",
       "    }\n",
       "</style>\n",
       "<table border=\"1\" class=\"dataframe\">\n",
       "  <thead>\n",
       "    <tr style=\"text-align: right;\">\n",
       "      <th></th>\n",
       "      <th>Company</th>\n",
       "      <th>WebSite</th>\n",
       "    </tr>\n",
       "  </thead>\n",
       "  <tbody>\n",
       "    <tr>\n",
       "      <th>0</th>\n",
       "      <td>VEA_NEW</td>\n",
       "      <td>https://www.laescuelitavea.org.ar/</td>\n",
       "    </tr>\n",
       "    <tr>\n",
       "      <th>1</th>\n",
       "      <td>VEA_OLD</td>\n",
       "      <td>https://www.laescuelitavea.com.ar/</td>\n",
       "    </tr>\n",
       "    <tr>\n",
       "      <th>2</th>\n",
       "      <td>LINCOLN</td>\n",
       "      <td>https://colegiolincoln.com.ar/</td>\n",
       "    </tr>\n",
       "    <tr>\n",
       "      <th>3</th>\n",
       "      <td>PESTALOZZI</td>\n",
       "      <td>https://www.pestalozzi.edu.ar/</td>\n",
       "    </tr>\n",
       "  </tbody>\n",
       "</table>\n",
       "</div>"
      ],
      "text/plain": [
       "      Company                             WebSite\n",
       "0     VEA_NEW  https://www.laescuelitavea.org.ar/\n",
       "1     VEA_OLD  https://www.laescuelitavea.com.ar/\n",
       "2     LINCOLN      https://colegiolincoln.com.ar/\n",
       "3  PESTALOZZI      https://www.pestalozzi.edu.ar/"
      ]
     },
     "execution_count": 11,
     "metadata": {},
     "output_type": "execute_result"
    }
   ],
   "source": [
    "df"
   ]
  },
  {
   "cell_type": "code",
   "execution_count": 12,
   "metadata": {},
   "outputs": [
    {
     "name": "stdout",
     "output_type": "stream",
     "text": [
      "VEA_NEW https://www.laescuelitavea.org.ar/\n",
      "VEA_OLD https://www.laescuelitavea.com.ar/\n",
      "LINCOLN https://colegiolincoln.com.ar/\n",
      "PESTALOZZI https://www.pestalozzi.edu.ar/\n"
     ]
    }
   ],
   "source": [
    "for index,row in df.iterrows():\n",
    "    print(row['Company'],row['WebSite'])"
   ]
  }
 ],
 "metadata": {
  "kernelspec": {
   "display_name": "PY311",
   "language": "python",
   "name": "python3"
  },
  "language_info": {
   "codemirror_mode": {
    "name": "ipython",
    "version": 3
   },
   "file_extension": ".py",
   "mimetype": "text/x-python",
   "name": "python",
   "nbconvert_exporter": "python",
   "pygments_lexer": "ipython3",
   "version": "3.11.4"
  },
  "orig_nbformat": 4
 },
 "nbformat": 4,
 "nbformat_minor": 2
}
