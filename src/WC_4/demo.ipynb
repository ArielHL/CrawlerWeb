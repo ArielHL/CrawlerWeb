{
 "cells": [
  {
   "cell_type": "code",
   "execution_count": 18,
   "metadata": {},
   "outputs": [],
   "source": [
    "import pandas as pd\n",
    "from pathlib import Path\n"
   ]
  },
  {
   "cell_type": "code",
   "execution_count": 19,
   "metadata": {},
   "outputs": [],
   "source": [
    "path = '/Users/ariel/OneDrive/Programacion/REPOS/CrawlerWeb/companies/'"
   ]
  },
  {
   "cell_type": "code",
   "execution_count": 20,
   "metadata": {},
   "outputs": [],
   "source": [
    "\n",
    "def explore_folder(folder_path):\n",
    "    files = []\n",
    "    \n",
    "    folder_path = Path(folder_path)\n",
    "    for file_path in folder_path.rglob('*'):\n",
    "        if file_path.is_file() and file_path.suffix == '.json' and 'crawled' in file_path.name:\n",
    "            files.append(file_path)\n",
    "    \n",
    "    return files"
   ]
  },
  {
   "cell_type": "code",
   "execution_count": 21,
   "metadata": {},
   "outputs": [],
   "source": [
    "json_lists=explore_folder(path)"
   ]
  },
  {
   "cell_type": "code",
   "execution_count": 27,
   "metadata": {},
   "outputs": [
    {
     "name": "stdout",
     "output_type": "stream",
     "text": [
      "All arrays must be of the same length\n",
      "All arrays must be of the same length\n",
      "Unexpected character found when decoding array value (2)\n",
      "All arrays must be of the same length\n",
      "All arrays must be of the same length\n",
      "(1, 5)\n",
      "All arrays must be of the same length\n",
      "All arrays must be of the same length\n"
     ]
    }
   ],
   "source": [
    "dfCombined = pd.DataFrame()\n",
    "df_list = []\n",
    "\n",
    "for json_file in json_lists:\n",
    "    try:\n",
    "        df = pd.read_json(json_file)\n",
    "        print(df.shape)\n",
    "    except Exception as e:\n",
    "        print(str(e))"
   ]
  }
 ],
 "metadata": {
  "kernelspec": {
   "display_name": "PY311",
   "language": "python",
   "name": "python3"
  },
  "language_info": {
   "codemirror_mode": {
    "name": "ipython",
    "version": 3
   },
   "file_extension": ".py",
   "mimetype": "text/x-python",
   "name": "python",
   "nbconvert_exporter": "python",
   "pygments_lexer": "ipython3",
   "version": "3.11.4"
  },
  "orig_nbformat": 4
 },
 "nbformat": 4,
 "nbformat_minor": 2
}
