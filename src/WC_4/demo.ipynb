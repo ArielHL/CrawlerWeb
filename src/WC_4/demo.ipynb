{
 "cells": [
  {
   "cell_type": "code",
   "execution_count": null,
   "metadata": {},
   "outputs": [],
   "source": [
    "import json\n",
    "from bs4 import BeautifulSoup\n",
    "import pandas as pd\n",
    "\n",
    "json_path=r'C:\\Users\\Ariel\\OneDrive\\Programacion\\REPOS\\CrawlerWeb\\companies\\VEA_NEW_5\\crawled.json'\n",
    "\n",
    "with open(json_path, 'r') as f:\n",
    "    dataJson=json.load(f)\n",
    "    \n",
    "url_list=dataJson['url']\n",
    "url_html_list=dataJson['html_string']\n",
    "\n",
    "url=url_list[1]\n",
    "html=url_html_list[1]"
   ]
  },
  {
   "cell_type": "code",
   "execution_count": null,
   "metadata": {},
   "outputs": [],
   "source": [
    "soup = BeautifulSoup(html, 'html.parser')\n",
    "\n",
    "list_of_string = soup.text.split(\"\\n\")                                                          # get the text of the soup object\n",
    "first_string = [part_of_text.strip(\" \") for part_of_text in list_of_string if part_of_text] \n",
    "first_string"
   ]
  },
  {
   "cell_type": "code",
   "execution_count": null,
   "metadata": {},
   "outputs": [],
   "source": [
    "df=pd.read_json(json_path)\n",
    "df.head(3)"
   ]
  },
  {
   "cell_type": "code",
   "execution_count": null,
   "metadata": {},
   "outputs": [],
   "source": [
    "import time\n",
    "import regex as re\n",
    "from bs4 import BeautifulSoup\n",
    "from swifter import set_defaults\n",
    "#import swifter\n",
    "from tqdm import tqdm\n",
    "import pandas as pd\n",
    "\n",
    "set_defaults(progress_bar=True,\n",
    "             allow_dask_on_strings=True,\n",
    "             force_parallel=True,\n",
    "             npartitions=64)\n",
    "tqdm.pandas()\n",
    "\n",
    "\n",
    "def html_to_text(html: str):\n",
    "    try:\n",
    "        soup = BeautifulSoup(html, 'html.parser')\n",
    "        text = soup.text\n",
    "\n",
    "        return text\n",
    "    except Exception:\n",
    "        #print(\"Error with html: \", html)\n",
    "        pass"
   ]
  },
  {
   "cell_type": "code",
   "execution_count": null,
   "metadata": {},
   "outputs": [],
   "source": [
    "df[\"text\"] = df.html_string.swifter.apply(lambda html: html_to_text(html))"
   ]
  },
  {
   "cell_type": "code",
   "execution_count": null,
   "metadata": {},
   "outputs": [],
   "source": [
    "df.head(3)"
   ]
  },
  {
   "cell_type": "code",
   "execution_count": null,
   "metadata": {},
   "outputs": [],
   "source": [
    "path=r'c:\\Users\\Ariel\\OneDrive\\Programacion\\REPOS\\CrawlerWeb\\Source\\Company_data.xlsx'\n",
    "df=pd.read_excel(path)\n",
    "    "
   ]
  },
  {
   "cell_type": "code",
   "execution_count": null,
   "metadata": {},
   "outputs": [],
   "source": [
    "df"
   ]
  },
  {
   "cell_type": "code",
   "execution_count": null,
   "metadata": {},
   "outputs": [],
   "source": [
    "for index,row in df.iterrows():\n",
    "    print(row['Company'],row['WebSite'])"
   ]
  },
  {
   "cell_type": "code",
   "execution_count": null,
   "metadata": {},
   "outputs": [],
   "source": [
    "from threading import Thread\n",
    "import time\n",
    "\n",
    "def sub_worker(id):\n",
    "    print(\"SubWorker started from thread\", id)\n",
    "    while True:\n",
    "        print(\"Subworking...\")\n",
    "        time.sleep(5)\n",
    "def worker(id):\n",
    "    print(\"Worker started from thread\", id)\n",
    "    count = 1\n",
    "    while count < 5:\n",
    "        print(\"Working...\")\n",
    "        tmp_thread = Thread(target=sub_worker, args=[count])\n",
    "        tmp_thread.start()\n",
    "        count +=1\n",
    "        time.sleep(1)\n",
    "    raise EnvironmentError(\"Tired of working\")\n",
    "\n",
    "main = Thread(target=worker, args=[0])\n",
    "\n",
    "main.start()"
   ]
  },
  {
   "cell_type": "code",
   "execution_count": 4,
   "metadata": {},
   "outputs": [],
   "source": [
    "import multiprocessing as mp\n"
   ]
  },
  {
   "cell_type": "code",
   "execution_count": 5,
   "metadata": {},
   "outputs": [
    {
     "data": {
      "text/plain": [
       "8"
      ]
     },
     "execution_count": 5,
     "metadata": {},
     "output_type": "execute_result"
    }
   ],
   "source": [
    "mp.cpu_count()"
   ]
  },
  {
   "cell_type": "code",
   "execution_count": null,
   "metadata": {},
   "outputs": [],
   "source": [
    "\n",
    "processes = [Process(target=multi_threading_implementation, args=[(Crawler, que)]) for x in\n",
    "                range(mp.cpu_count())]"
   ]
  }
 ],
 "metadata": {
  "kernelspec": {
   "display_name": "PY311",
   "language": "python",
   "name": "python3"
  },
  "language_info": {
   "codemirror_mode": {
    "name": "ipython",
    "version": 3
   },
   "file_extension": ".py",
   "mimetype": "text/x-python",
   "name": "python",
   "nbconvert_exporter": "python",
   "pygments_lexer": "ipython3",
   "version": "3.11.4"
  },
  "orig_nbformat": 4
 },
 "nbformat": 4,
 "nbformat_minor": 2
}
