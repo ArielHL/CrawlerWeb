{
 "cells": [
  {
   "cell_type": "markdown",
   "metadata": {},
   "source": [
    "##### Loading Libraries"
   ]
  },
  {
   "cell_type": "code",
   "execution_count": 1,
   "metadata": {},
   "outputs": [],
   "source": [
    "import pandas as pd\n",
    "import configparser\n",
    "from datetime import datetime\n",
    "\n",
    "import warnings\n",
    "warnings.filterwarnings('ignore')\n",
    "\n",
    "# import internal libraries\n",
    "from Modules.client import RestClient\n",
    "from Modules.handlers import *\n",
    "\n",
    "\n",
    "def read_config(filename=r'C:\\Users\\alimes001\\Desktop\\config.ini'):\n",
    "    config = configparser.ConfigParser()\n",
    "    config.read(filename)\n",
    "    return config['Credentials']\n",
    "\n",
    "credentials = read_config()\n",
    "username = credentials['username']\n",
    "password = credentials['password']\n",
    "\n",
    "# Define the client object\n",
    "client = RestClient(username=username, \n",
    "                    password=password,\n",
    "                    database_path=r'./database/task_dict.json')"
   ]
  },
  {
   "cell_type": "markdown",
   "metadata": {},
   "source": [
    "#### Create asin Review List"
   ]
  },
  {
   "cell_type": "code",
   "execution_count": 9,
   "metadata": {},
   "outputs": [],
   "source": [
    "df=pd.read_excel(r'C:\\Users\\alimes001\\Documents\\DAT EU\\Amazon\\Amazon_pitch.xlsx')\n",
    "asin_list=df.ASIN.tolist()"
   ]
  },
  {
   "cell_type": "markdown",
   "metadata": {},
   "source": [
    "##### Create Google/Amazon post"
   ]
  },
  {
   "cell_type": "code",
   "execution_count": 23,
   "metadata": {},
   "outputs": [
    {
     "name": "stdout",
     "output_type": "stream",
     "text": [
      "Task accepted\n",
      "Task id: 11162041-6489-0209-0000-8f034e13e4e5.\n",
      "Task accepted\n",
      "Task id: 11162041-6489-0209-0000-8785a71b829f.\n"
     ]
    }
   ],
   "source": [
    "# for Amazon product download\n",
    "# https://docs.dataforseo.com/v3/merchant/amazon/products/task_post/?python\n",
    "\n",
    "# For Amazon reviews download\n",
    "# https://docs.dataforseo.com/v3/merchant/amazon/reviews/task_post/?python\n",
    "\n",
    "# for Google product download\n",
    "# https://docs.dataforseo.com/v3/merchant/google/products/task_post/?python\n",
    "\n",
    "# reviews  >> value to search is a list with asin (list if is multiple_task is True)\n",
    "# products >> value to search is a list of keywords (list if is multiple_task is True)\n",
    "\n",
    "create_post(client=client,\n",
    "            api_type='merchant',\n",
    "            merchant='amazon',\n",
    "            task_type=\"reviews\", \n",
    "            value_to_search=['lamy pens','fabercastell'], \n",
    "            depth=700, \n",
    "            multiple_task=True)\n"
   ]
  },
  {
   "cell_type": "code",
   "execution_count": 2,
   "metadata": {},
   "outputs": [
    {
     "name": "stdout",
     "output_type": "stream",
     "text": [
      "You have 2 tasks in progress\n",
      "Please wait...\n",
      "All tasks are downloaded\n"
     ]
    }
   ],
   "source": [
    "client.task_monitor(\n",
    "        api_type='merchant',\n",
    "        merchant='amazon',\n",
    "        task_type='products',\n",
    "        time_sec=60*2)"
   ]
  },
  {
   "cell_type": "code",
   "execution_count": 20,
   "metadata": {},
   "outputs": [],
   "source": [
    "lamy_pens_reviews=read_json_path(client=client,merchant='amazon',task_type='reviews',task_id=task_id)"
   ]
  },
  {
   "cell_type": "code",
   "execution_count": 4,
   "metadata": {},
   "outputs": [],
   "source": [
    "lamy_pens_reviews.to_excel('./Results/pens_result.xlsx',index=False)"
   ]
  },
  {
   "cell_type": "markdown",
   "metadata": {},
   "source": [
    "#### Create Tasks for Reviews and Retrive Data"
   ]
  },
  {
   "cell_type": "code",
   "execution_count": null,
   "metadata": {},
   "outputs": [],
   "source": [
    "\n",
    "iphone_reviews= pd.concat([iphone_reviews,iphone_reviews['rating'].apply(pd.Series,dtype='object')],axis=1)\n",
    "iphone_reviews= pd.concat([iphone_reviews,iphone_reviews['user_profile'].apply(pd.Series,dtype='object')],axis=1)\n",
    "iphone_reviews=iphone_reviews.drop(columns=['rating','user_profile'])\n",
    "\n",
    "# 4. merge reviews with product data\n",
    "iphone_reviews=samsung_data.merge(iphone_reviews,how='left',left_on='data_asin',right_on='asin',suffixes=('_product','_review'))\n",
    "iphone_reviews.to_excel(r'./Results/iphone_merge.xlsx',index=False)"
   ]
  }
 ],
 "metadata": {
  "kernelspec": {
   "display_name": "PY311",
   "language": "python",
   "name": "python3"
  },
  "language_info": {
   "codemirror_mode": {
    "name": "ipython",
    "version": 3
   },
   "file_extension": ".py",
   "mimetype": "text/x-python",
   "name": "python",
   "nbconvert_exporter": "python",
   "pygments_lexer": "ipython3",
   "version": "3.11.4"
  },
  "orig_nbformat": 4
 },
 "nbformat": 4,
 "nbformat_minor": 2
}
