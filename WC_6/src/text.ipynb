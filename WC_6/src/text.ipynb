{
 "cells": [
  {
   "cell_type": "code",
   "execution_count": 1,
   "metadata": {},
   "outputs": [],
   "source": [
    "import pandas as pd  \n",
    "from MiddleWares.Translate_v3plus import Translator  as Translator_3plus\n",
    "from MiddleWares.Translate_v3 import Translator  as Translator_3\n",
    "import swifter\n",
    "from tqdm import tqdm\n",
    "translator = Translator_3()\n",
    "\n",
    "import warnings\n",
    "warnings.filterwarnings('ignore')"
   ]
  },
  {
   "cell_type": "code",
   "execution_count": 2,
   "metadata": {},
   "outputs": [],
   "source": [
    "df=pd.read_excel(r'C:\\Users\\Ariel\\OneDrive\\Programacion\\REPOS\\CrawlerWeb\\Output\\Results\\combined_file_before_translation.xlsx')\n",
    "df['words']=df['text'].apply(lambda x: len(x.split()))\n",
    "df['caracters']=df['text'].apply(lambda x: len(x))\n",
    "df.reset_index(inplace=True)\n",
    "\n",
    "df['text_in']=df['index'].astype(str)+'_'+df['text']\n",
    "\n",
    "not_english_df = df[df['html_lang'] != 'en']\n",
    "english_df= df[df['html_lang'] == 'en']\n",
    "\n"
   ]
  },
  {
   "cell_type": "code",
   "execution_count": 3,
   "metadata": {},
   "outputs": [
    {
     "name": "stderr",
     "output_type": "stream",
     "text": [
      "100%|██████████| 121/121 [00:04<00:00, 27.50it/s]\n",
      "100%|██████████| 121/121 [00:10<00:00, 11.45it/s]\n"
     ]
    }
   ],
   "source": [
    "translated_df=translator.translate_df(df=not_english_df, \n",
    "                                      column_name='text_in',\n",
    "                                      new_column_name='translated_text',\n",
    "                                      max_workers=50)"
   ]
  },
  {
   "cell_type": "code",
   "execution_count": null,
   "metadata": {},
   "outputs": [],
   "source": [
    "\n",
    "# run translation\n",
    "\n",
    "english_df['translated_text'] = english_df['text_in']\n",
    "\n",
    "translated_df=translated_df.reset_index(drop=True)\n",
    "english_df=english_df.reset_index(drop=True)\n",
    "\n",
    "final_df=pd.concat([english_df, translated_df])"
   ]
  },
  {
   "cell_type": "code",
   "execution_count": 4,
   "metadata": {},
   "outputs": [],
   "source": [
    "not_english_df.to_excel(r'C:\\Users\\Ariel\\OneDrive\\Programacion\\REPOS\\CrawlerWeb\\Output\\Results\\combined_file_after_translation(pre).xlsx',index=False)\n",
    "# final_df.to_excel(r'C:\\Users\\Ariel\\OneDrive\\Programacion\\REPOS\\CrawlerWeb\\Output\\Results\\combined_file_after_translation.xlsx',index=False)"
   ]
  }
 ],
 "metadata": {
  "kernelspec": {
   "display_name": "PY311",
   "language": "python",
   "name": "python3"
  },
  "language_info": {
   "codemirror_mode": {
    "name": "ipython",
    "version": 3
   },
   "file_extension": ".py",
   "mimetype": "text/x-python",
   "name": "python",
   "nbconvert_exporter": "python",
   "pygments_lexer": "ipython3",
   "version": "3.11.6"
  }
 },
 "nbformat": 4,
 "nbformat_minor": 2
}
