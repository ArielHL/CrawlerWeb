{
 "cells": [
  {
   "cell_type": "code",
   "execution_count": 14,
   "metadata": {},
   "outputs": [
    {
     "name": "stderr",
     "output_type": "stream",
     "text": [
      "100%|██████████| 6/6 [00:02<00:00,  2.12it/s]\n"
     ]
    }
   ],
   "source": [
    "\n",
    "# Translate the DataFrame using multithreading and show progress bar\n",
    "translated_df = Translator.translate_dataframe(df=df,\n",
    "                                               column_name='text_column',\n",
    "                                               num_workers=4)\n",
    "\n",
    "    # Print the translated DataFrame\n",
    "\n"
   ]
  },
  {
   "cell_type": "code",
   "execution_count": 15,
   "metadata": {},
   "outputs": [
    {
     "data": {
      "text/html": [
       "<div>\n",
       "<style scoped>\n",
       "    .dataframe tbody tr th:only-of-type {\n",
       "        vertical-align: middle;\n",
       "    }\n",
       "\n",
       "    .dataframe tbody tr th {\n",
       "        vertical-align: top;\n",
       "    }\n",
       "\n",
       "    .dataframe thead th {\n",
       "        text-align: right;\n",
       "    }\n",
       "</style>\n",
       "<table border=\"1\" class=\"dataframe\">\n",
       "  <thead>\n",
       "    <tr style=\"text-align: right;\">\n",
       "      <th></th>\n",
       "      <th>index</th>\n",
       "      <th>text_column</th>\n",
       "      <th>indexed_text</th>\n",
       "      <th>translated_text</th>\n",
       "    </tr>\n",
       "  </thead>\n",
       "  <tbody>\n",
       "    <tr>\n",
       "      <th>0</th>\n",
       "      <td>0</td>\n",
       "      <td>El amor es un sentimiento poderoso que ilumina...</td>\n",
       "      <td>0_El amor es un sentimiento poderoso que ilumi...</td>\n",
       "      <td>0_ Love is a powerful feeling that illuminates...</td>\n",
       "    </tr>\n",
       "    <tr>\n",
       "      <th>1</th>\n",
       "      <td>1</td>\n",
       "      <td>En el amor, encontramos un refugio donde nuest...</td>\n",
       "      <td>1_En el amor, encontramos un refugio donde nue...</td>\n",
       "      <td>1_In love, we find a shelter where our souls i...</td>\n",
       "    </tr>\n",
       "    <tr>\n",
       "      <th>2</th>\n",
       "      <td>2</td>\n",
       "      <td>Amar es aceptar a alguien tal como es, con tod...</td>\n",
       "      <td>2_Amar es aceptar a alguien tal como es, con t...</td>\n",
       "      <td>2_Amar is accepting someone as he is, with all...</td>\n",
       "    </tr>\n",
       "    <tr>\n",
       "      <th>3</th>\n",
       "      <td>3</td>\n",
       "      <td>El amor nos empuja a ser mejores personas, a c...</td>\n",
       "      <td>3_El amor nos empuja a ser mejores personas, a...</td>\n",
       "      <td>3_ Love pushes us to be better people, to care...</td>\n",
       "    </tr>\n",
       "    <tr>\n",
       "      <th>4</th>\n",
       "      <td>4</td>\n",
       "      <td>Amar es un viaje lleno de descubrimientos, una...</td>\n",
       "      <td>4_Amar es un viaje lleno de descubrimientos, u...</td>\n",
       "      <td>4_Amar is a trip full of discoveries, an adven...</td>\n",
       "    </tr>\n",
       "    <tr>\n",
       "      <th>5</th>\n",
       "      <td>5</td>\n",
       "      <td>El espacio, ese vasto y enigmático infinito, h...</td>\n",
       "      <td>5_El espacio, ese vasto y enigmático infinito,...</td>\n",
       "      <td>5_ The space, that vast and enigmatic infinity...</td>\n",
       "    </tr>\n",
       "  </tbody>\n",
       "</table>\n",
       "</div>"
      ],
      "text/plain": [
       "   index                                        text_column  \\\n",
       "0      0  El amor es un sentimiento poderoso que ilumina...   \n",
       "1      1  En el amor, encontramos un refugio donde nuest...   \n",
       "2      2  Amar es aceptar a alguien tal como es, con tod...   \n",
       "3      3  El amor nos empuja a ser mejores personas, a c...   \n",
       "4      4  Amar es un viaje lleno de descubrimientos, una...   \n",
       "5      5  El espacio, ese vasto y enigmático infinito, h...   \n",
       "\n",
       "                                        indexed_text  \\\n",
       "0  0_El amor es un sentimiento poderoso que ilumi...   \n",
       "1  1_En el amor, encontramos un refugio donde nue...   \n",
       "2  2_Amar es aceptar a alguien tal como es, con t...   \n",
       "3  3_El amor nos empuja a ser mejores personas, a...   \n",
       "4  4_Amar es un viaje lleno de descubrimientos, u...   \n",
       "5  5_El espacio, ese vasto y enigmático infinito,...   \n",
       "\n",
       "                                     translated_text  \n",
       "0  0_ Love is a powerful feeling that illuminates...  \n",
       "1  1_In love, we find a shelter where our souls i...  \n",
       "2  2_Amar is accepting someone as he is, with all...  \n",
       "3  3_ Love pushes us to be better people, to care...  \n",
       "4  4_Amar is a trip full of discoveries, an adven...  \n",
       "5  5_ The space, that vast and enigmatic infinity...  "
      ]
     },
     "execution_count": 15,
     "metadata": {},
     "output_type": "execute_result"
    }
   ],
   "source": [
    "translated_df"
   ]
  },
  {
   "cell_type": "code",
   "execution_count": null,
   "metadata": {},
   "outputs": [],
   "source": [
    "translated_df\n",
    "translated_df['words']=translated_df['text_column'].apply(lambda x: len(x.split()))\n",
    "translated_df['caracters']=translated_df['text_column'].apply(lambda x: len(x))\n",
    "translated_df['words_tl']=translated_df['translated_text'].apply(lambda x: len(x.split()))\n",
    "translated_df['caracters_tl']=translated_df['translated_text'].apply(lambda x: len(x))"
   ]
  },
  {
   "cell_type": "code",
   "execution_count": null,
   "metadata": {},
   "outputs": [],
   "source": [
    "translated_df"
   ]
  }
 ],
 "metadata": {
  "kernelspec": {
   "display_name": "PY311",
   "language": "python",
   "name": "python3"
  },
  "language_info": {
   "codemirror_mode": {
    "name": "ipython",
    "version": 3
   },
   "file_extension": ".py",
   "mimetype": "text/x-python",
   "name": "python",
   "nbconvert_exporter": "python",
   "pygments_lexer": "ipython3",
   "version": "3.11.6"
  }
 },
 "nbformat": 4,
 "nbformat_minor": 2
}
