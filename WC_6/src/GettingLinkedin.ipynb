{
 "cells": [
  {
   "cell_type": "code",
   "execution_count": 6,
   "metadata": {},
   "outputs": [],
   "source": [
    "# import external libraries\n",
    "import pandas as pd\n",
    "from selenium import webdriver\n",
    "from selenium.common.exceptions import StaleElementReferenceException\n",
    "from selenium.webdriver.common.by import By \n",
    "from selenium.webdriver.chrome.service import Service as ChromeService \n",
    "from selenium.webdriver.chrome.options import Options\n",
    "from selenium.webdriver.common.by import By\n",
    "from selenium.webdriver.common.keys import Keys\n",
    "from selenium.webdriver.support.ui import WebDriverWait\n",
    "from selenium.webdriver.support import expected_conditions as EC\n",
    "from tqdm import tqdm\n",
    "from typing import *\n",
    "import random\n",
    "from itertools import islice\n",
    "import pandas as pd\n",
    "from collections import defaultdict\n",
    "import time\n",
    "from urllib.parse import urlparse\n",
    "\n",
    "import warnings\n",
    "warnings.filterwarnings('ignore')\n"
   ]
  },
  {
   "cell_type": "code",
   "execution_count": 7,
   "metadata": {},
   "outputs": [],
   "source": [
    "\n",
    "\n",
    "# ************************************************************************* Selenium configuration ****************************************************************\n",
    "service = ChromeService()\n",
    "options = webdriver.ChromeOptions()\n",
    "driver = webdriver.Chrome(service=service, options=options)\n",
    "# driver.implicitly_wait(10)\n",
    "wait = WebDriverWait(driver, 5)\n",
    "driver.maximize_window()\n",
    "\n",
    "\n",
    "\n",
    "# ************************************************************************* Data ******************************************************************************\n",
    "\n",
    "\n",
    "# Url \n",
    "url_base = 'https://www.linkedin.com/search/results/companies'\n",
    "\n",
    "\n",
    "data_dict=dict(\n",
    "    company_name=[],\n",
    "    linkedin_url=[]\n",
    ")\n",
    "\n",
    "\n",
    "# ************************************************************************* Functions ******************************************************************************\n",
    "def login(driver) -> None:\n",
    "# Login\n",
    "    sign_in_link=driver.find_element(By.XPATH,'/html/body/div[1]/main/div/p/a')\n",
    "    sign_in_link.click()\n",
    "    time.sleep(3*random.random())\n",
    "\n",
    "    email_input=driver.find_element(By.XPATH,'//*[@id=\"username\"]')\n",
    "    email_input.send_keys('ariel.hernan.limes@pwc.com')\n",
    "    time.sleep(1*random.random())\n",
    "\n",
    "    password_input=driver.find_element(By.XPATH,'//*[@id=\"password\"]')\n",
    "    password_input.send_keys('MiVida1855')\n",
    "    time.sleep(1*random.random())\n",
    "\n",
    "    signIn_Button=driver.find_element(By.XPATH,'//*[@id=\"organic-div\"]/form/div[3]/button')\n",
    "    signIn_Button.click()\n",
    "    time.sleep(3*random.random())\n",
    "    \n",
    "\n",
    "def validate_profile(company):\n",
    "    \n",
    "    global data_dict\n",
    "    \n",
    "    # Url \n",
    "    url_base = 'https://www.linkedin.com/search/results/companies'\n",
    "    # Definint the driver\n",
    "    driver.get(url_base)\n",
    "    \n",
    "    company_search = driver.find_element(By.XPATH,'//input[@class=\"search-global-typeahead__input\"]')\n",
    "    company_search.clear()\n",
    "    company_search.send_keys(company)\n",
    "    company_search.send_keys(Keys.ENTER)\n",
    "    time.sleep(2)\n",
    "\n",
    "    try:\n",
    "        company_container=driver.find_elements(By.XPATH,'//li[@class=\"reusable-search__result-container\"]')\n",
    "        \n",
    "        time.sleep(1)\n",
    "        if len(company_container) > 0:\n",
    "        \n",
    "            time.sleep(1)\n",
    "            company_container[0].click()\n",
    "            time.sleep(3)\n",
    "            link_profile=driver.current_url\n",
    "           \n",
    "            \n",
    "            data_dict['company_name'].append(company)\n",
    "            data_dict['linkedin_url'].append(link_profile)\n",
    "        else:\n",
    "            data_dict['company_name'].append(None)\n",
    "            data_dict['linkedin_url'].append(None)\n",
    "    except:\n",
    "\n",
    "        data_dict['company_name'].append(None)\n",
    "        data_dict['linkedin_url'].append(None)\n",
    "\n",
    "\n",
    "def explore_tags(company:str, url_company:str, driver)->None:\n",
    "    \n",
    "    global data_dict\n",
    "    \n",
    "    # Url \n",
    "    url_base = 'https://www.linkedin.com/search/results/companies'\n",
    "    # Definint the driver\n",
    "    driver.get(url_base)\n",
    "\n",
    "    company_search = driver.find_element(By.XPATH,'//input[@class=\"search-global-typeahead__input\"]')\n",
    "    company_search.clear()\n",
    "    company_search.send_keys(company)\n",
    "    company_search.send_keys(Keys.ENTER)\n",
    "    time.sleep(2)    \n",
    "       \n",
    "    try: \n",
    "        # container with all the companies with the same name    \n",
    "        container_elements=wait.until(EC.presence_of_all_elements_located((By.XPATH, '//li[@class=\"reusable-search__result-container\"]')))\n",
    "        # star reviewing the companies\n",
    "        for i in range(len(container_elements)):\n",
    "            try:\n",
    "                container_elements=wait.until(EC.presence_of_all_elements_located((By.XPATH, '//li[@class=\"reusable-search__result-container\"]')))\n",
    "                container_elements[i].click()\n",
    "                time.sleep(1)\n",
    "                about_link=wait.until(EC.presence_of_element_located((By.XPATH, '//ul[@class=\"org-page-navigation__items \"]/li/a[contains(@href,\"about\")]')))\n",
    "                about_link.click()\n",
    "                \n",
    "                try:\n",
    "                    company_url_element=wait.until(EC.presence_of_element_located((By.XPATH, '//dd[@class=\"mb4 t-black--light text-body-medium\"]/a/span')))\n",
    "                    company_url = company_url_element.text\n",
    "                except:\n",
    "                    pass\n",
    "                \n",
    "                url_domain = urlparse(company_url).netloc\n",
    "                target_domain = urlparse(url_company).netloc\n",
    "                \n",
    "                if url_domain == target_domain:\n",
    "                    data_dict['company_name'].append(company)\n",
    "                    data_dict['linkedin_url'].append(driver.current_url)\n",
    "                    break\n",
    "\n",
    "                driver.back()\n",
    "                time.sleep(2)\n",
    "                driver.back()\n",
    "                \n",
    "            except StaleElementReferenceException:\n",
    "                \n",
    "                \n",
    "                container_elements=wait.until(EC.presence_of_all_elements_located((By.XPATH, '//li[@class=\"reusable-search__result-container\"]')))\n",
    "                container_elements[i].click()\n",
    "                time.sleep(1)\n",
    "                about_link=wait.until(EC.presence_of_element_located((By.XPATH, '//ul[@class=\"org-page-navigation__items \"]/li/a[contains(@href,\"about\")]')))\n",
    "                about_link.click()\n",
    "\n",
    "                try:\n",
    "                    company_url_element=wait.until(EC.presence_of_element_located((By.XPATH, '//dd[@class=\"mb4 t-black--light text-body-medium\"]/a/span')))\n",
    "                    company_url = company_url_element.text\n",
    "                except:\n",
    "                    pass\n",
    "                \n",
    "                url_domain = urlparse(company_url).netloc\n",
    "                target_domain = urlparse(url_company).netloc\n",
    "                \n",
    "                if url_domain == target_domain:\n",
    "                    data_dict['company_name'].append(company)\n",
    "                    data_dict['linkedin_url'].append(driver.current_url)\n",
    "                    break\n",
    "\n",
    "                driver.back()\n",
    "                time.sleep(2)\n",
    "                driver.back()\n",
    "    except:\n",
    "        pass\n"
   ]
  },
  {
   "cell_type": "code",
   "execution_count": 13,
   "metadata": {},
   "outputs": [],
   "source": [
    "\n",
    "# *********************************************************** Reading Data to Explore ****************************************************************************\n",
    "# df_summary=pd.read_excel(r'../../Output/Results/summary.xlsx') \n",
    "# df_base=pd.read_parquet(r'C:\\Users\\alimes001\\Documents\\DAT EU\\REPOS\\DA-EU\\DA-Codes repository\\src\\Dev\\WebCrawler\\Output\\Results\\combined_file_html_to_text.parquet')\n",
    "# df_output=df_base.drop_duplicates(subset=['url_base'])\n",
    "# df_output.drop(columns=['text','url'], inplace=True)\n",
    "\n",
    "# df_merge=pd.merge(df_summary, df_output, on='url_base', how='left')\n",
    "\n",
    "# df_merge['url_base_right']=df_merge['url_base'].apply(lambda x: x.replace('https://','https://www.').replace('http://','http://www.'))\n",
    "# df_merge.to_excel(r'../../Output/Results/Summ_Linkedin.xlsx', index=False)\n",
    "\n",
    "df_base=pd.read_parquet(r'C:\\Users\\alimes001\\Documents\\DAT EU\\REPOS\\DA-EU\\DA-Codes repository\\src\\Dev\\WebCrawler\\Output\\Results\\combined_file_html_to_text.parquet')\n",
    "df_output=df_base.drop_duplicates(subset=['url_base'])\n",
    "df_output.drop(columns=['text','url'], inplace=True)\n",
    "df_output=df_output[~df_output['linkedin_profile'].isna()]\n"
   ]
  },
  {
   "cell_type": "code",
   "execution_count": 15,
   "metadata": {},
   "outputs": [
    {
     "name": "stderr",
     "output_type": "stream",
     "text": [
      " 90%|████████▉ | 562/627 [2:39:23<18:26, 17.02s/it]  \n"
     ]
    },
    {
     "ename": "NoSuchElementException",
     "evalue": "Message: no such element: Unable to locate element: {\"method\":\"xpath\",\"selector\":\"//input[@class=\"search-global-typeahead__input\"]\"}\n  (Session info: chrome=119.0.6045.200); For documentation on this error, please visit: https://www.selenium.dev/documentation/webdriver/troubleshooting/errors#no-such-element-exception\nStacktrace:\n\tGetHandleVerifier [0x00007FF7FE8C82B2+55298]\n\t(No symbol) [0x00007FF7FE835E02]\n\t(No symbol) [0x00007FF7FE6F05AB]\n\t(No symbol) [0x00007FF7FE73175C]\n\t(No symbol) [0x00007FF7FE7318DC]\n\t(No symbol) [0x00007FF7FE76CBC7]\n\t(No symbol) [0x00007FF7FE7520EF]\n\t(No symbol) [0x00007FF7FE76AAA4]\n\t(No symbol) [0x00007FF7FE751E83]\n\t(No symbol) [0x00007FF7FE72670A]\n\t(No symbol) [0x00007FF7FE727964]\n\tGetHandleVerifier [0x00007FF7FEC40AAB+3694587]\n\tGetHandleVerifier [0x00007FF7FEC9728E+4048862]\n\tGetHandleVerifier [0x00007FF7FEC8F173+4015811]\n\tGetHandleVerifier [0x00007FF7FE9647D6+695590]\n\t(No symbol) [0x00007FF7FE840CE8]\n\t(No symbol) [0x00007FF7FE83CF34]\n\t(No symbol) [0x00007FF7FE83D062]\n\t(No symbol) [0x00007FF7FE82D3A3]\n\tBaseThreadInitThunk [0x00007FFC0B9B257D+29]\n\tRtlUserThreadStart [0x00007FFC0C4EAA58+40]\n",
     "output_type": "error",
     "traceback": [
      "\u001b[1;31m---------------------------------------------------------------------------\u001b[0m",
      "\u001b[1;31mNoSuchElementException\u001b[0m                    Traceback (most recent call last)",
      "\u001b[1;32mc:\\Users\\alimes001\\Documents\\DAT EU\\REPOS\\DA-EU\\DA-Codes repository\\src\\Dev\\WebCrawler\\WC_6\\src\\GettingLinkedin.ipynb Cell 4\u001b[0m line \u001b[0;36m8\n\u001b[0;32m      <a href='vscode-notebook-cell:/c%3A/Users/alimes001/Documents/DAT%20EU/REPOS/DA-EU/DA-Codes%20repository/src/Dev/WebCrawler/WC_6/src/GettingLinkedin.ipynb#X10sZmlsZQ%3D%3D?line=5'>6</a>\u001b[0m company\u001b[39m=\u001b[39mrow[\u001b[39m'\u001b[39m\u001b[39mProject\u001b[39m\u001b[39m'\u001b[39m]\n\u001b[0;32m      <a href='vscode-notebook-cell:/c%3A/Users/alimes001/Documents/DAT%20EU/REPOS/DA-EU/DA-Codes%20repository/src/Dev/WebCrawler/WC_6/src/GettingLinkedin.ipynb#X10sZmlsZQ%3D%3D?line=6'>7</a>\u001b[0m url_company\u001b[39m=\u001b[39mrow[\u001b[39m'\u001b[39m\u001b[39murl_base\u001b[39m\u001b[39m'\u001b[39m]\n\u001b[1;32m----> <a href='vscode-notebook-cell:/c%3A/Users/alimes001/Documents/DAT%20EU/REPOS/DA-EU/DA-Codes%20repository/src/Dev/WebCrawler/WC_6/src/GettingLinkedin.ipynb#X10sZmlsZQ%3D%3D?line=7'>8</a>\u001b[0m explore_tags(company, url_company, driver)\n\u001b[0;32m      <a href='vscode-notebook-cell:/c%3A/Users/alimes001/Documents/DAT%20EU/REPOS/DA-EU/DA-Codes%20repository/src/Dev/WebCrawler/WC_6/src/GettingLinkedin.ipynb#X10sZmlsZQ%3D%3D?line=8'>9</a>\u001b[0m time\u001b[39m.\u001b[39msleep(\u001b[39m2\u001b[39m)\n\u001b[0;32m     <a href='vscode-notebook-cell:/c%3A/Users/alimes001/Documents/DAT%20EU/REPOS/DA-EU/DA-Codes%20repository/src/Dev/WebCrawler/WC_6/src/GettingLinkedin.ipynb#X10sZmlsZQ%3D%3D?line=9'>10</a>\u001b[0m pbar\u001b[39m.\u001b[39mupdate(\u001b[39m1\u001b[39m)\n",
      "\u001b[1;32mc:\\Users\\alimes001\\Documents\\DAT EU\\REPOS\\DA-EU\\DA-Codes repository\\src\\Dev\\WebCrawler\\WC_6\\src\\GettingLinkedin.ipynb Cell 4\u001b[0m line \u001b[0;36m9\n\u001b[0;32m     <a href='vscode-notebook-cell:/c%3A/Users/alimes001/Documents/DAT%20EU/REPOS/DA-EU/DA-Codes%20repository/src/Dev/WebCrawler/WC_6/src/GettingLinkedin.ipynb#X10sZmlsZQ%3D%3D?line=87'>88</a>\u001b[0m \u001b[39m# Definint the driver\u001b[39;00m\n\u001b[0;32m     <a href='vscode-notebook-cell:/c%3A/Users/alimes001/Documents/DAT%20EU/REPOS/DA-EU/DA-Codes%20repository/src/Dev/WebCrawler/WC_6/src/GettingLinkedin.ipynb#X10sZmlsZQ%3D%3D?line=88'>89</a>\u001b[0m driver\u001b[39m.\u001b[39mget(url_base)\n\u001b[1;32m---> <a href='vscode-notebook-cell:/c%3A/Users/alimes001/Documents/DAT%20EU/REPOS/DA-EU/DA-Codes%20repository/src/Dev/WebCrawler/WC_6/src/GettingLinkedin.ipynb#X10sZmlsZQ%3D%3D?line=90'>91</a>\u001b[0m company_search \u001b[39m=\u001b[39m driver\u001b[39m.\u001b[39mfind_element(By\u001b[39m.\u001b[39mXPATH,\u001b[39m'\u001b[39m\u001b[39m//input[@class=\u001b[39m\u001b[39m\"\u001b[39m\u001b[39msearch-global-typeahead__input\u001b[39m\u001b[39m\"\u001b[39m\u001b[39m]\u001b[39m\u001b[39m'\u001b[39m)\n\u001b[0;32m     <a href='vscode-notebook-cell:/c%3A/Users/alimes001/Documents/DAT%20EU/REPOS/DA-EU/DA-Codes%20repository/src/Dev/WebCrawler/WC_6/src/GettingLinkedin.ipynb#X10sZmlsZQ%3D%3D?line=91'>92</a>\u001b[0m company_search\u001b[39m.\u001b[39mclear()\n\u001b[0;32m     <a href='vscode-notebook-cell:/c%3A/Users/alimes001/Documents/DAT%20EU/REPOS/DA-EU/DA-Codes%20repository/src/Dev/WebCrawler/WC_6/src/GettingLinkedin.ipynb#X10sZmlsZQ%3D%3D?line=92'>93</a>\u001b[0m company_search\u001b[39m.\u001b[39msend_keys(company)\n",
      "File \u001b[1;32mc:\\Users\\alimes001\\AppData\\Local\\anaconda3\\envs\\SC311\\Lib\\site-packages\\selenium\\webdriver\\remote\\webdriver.py:739\u001b[0m, in \u001b[0;36mWebDriver.find_element\u001b[1;34m(self, by, value)\u001b[0m\n\u001b[0;32m    736\u001b[0m     by \u001b[39m=\u001b[39m By\u001b[39m.\u001b[39mCSS_SELECTOR\n\u001b[0;32m    737\u001b[0m     value \u001b[39m=\u001b[39m \u001b[39mf\u001b[39m\u001b[39m'\u001b[39m\u001b[39m[name=\u001b[39m\u001b[39m\"\u001b[39m\u001b[39m{\u001b[39;00mvalue\u001b[39m}\u001b[39;00m\u001b[39m\"\u001b[39m\u001b[39m]\u001b[39m\u001b[39m'\u001b[39m\n\u001b[1;32m--> 739\u001b[0m \u001b[39mreturn\u001b[39;00m \u001b[39mself\u001b[39m\u001b[39m.\u001b[39mexecute(Command\u001b[39m.\u001b[39mFIND_ELEMENT, {\u001b[39m\"\u001b[39m\u001b[39musing\u001b[39m\u001b[39m\"\u001b[39m: by, \u001b[39m\"\u001b[39m\u001b[39mvalue\u001b[39m\u001b[39m\"\u001b[39m: value})[\u001b[39m\"\u001b[39m\u001b[39mvalue\u001b[39m\u001b[39m\"\u001b[39m]\n",
      "File \u001b[1;32mc:\\Users\\alimes001\\AppData\\Local\\anaconda3\\envs\\SC311\\Lib\\site-packages\\selenium\\webdriver\\remote\\webdriver.py:345\u001b[0m, in \u001b[0;36mWebDriver.execute\u001b[1;34m(self, driver_command, params)\u001b[0m\n\u001b[0;32m    343\u001b[0m response \u001b[39m=\u001b[39m \u001b[39mself\u001b[39m\u001b[39m.\u001b[39mcommand_executor\u001b[39m.\u001b[39mexecute(driver_command, params)\n\u001b[0;32m    344\u001b[0m \u001b[39mif\u001b[39;00m response:\n\u001b[1;32m--> 345\u001b[0m     \u001b[39mself\u001b[39m\u001b[39m.\u001b[39merror_handler\u001b[39m.\u001b[39mcheck_response(response)\n\u001b[0;32m    346\u001b[0m     response[\u001b[39m\"\u001b[39m\u001b[39mvalue\u001b[39m\u001b[39m\"\u001b[39m] \u001b[39m=\u001b[39m \u001b[39mself\u001b[39m\u001b[39m.\u001b[39m_unwrap_value(response\u001b[39m.\u001b[39mget(\u001b[39m\"\u001b[39m\u001b[39mvalue\u001b[39m\u001b[39m\"\u001b[39m, \u001b[39mNone\u001b[39;00m))\n\u001b[0;32m    347\u001b[0m     \u001b[39mreturn\u001b[39;00m response\n",
      "File \u001b[1;32mc:\\Users\\alimes001\\AppData\\Local\\anaconda3\\envs\\SC311\\Lib\\site-packages\\selenium\\webdriver\\remote\\errorhandler.py:229\u001b[0m, in \u001b[0;36mErrorHandler.check_response\u001b[1;34m(self, response)\u001b[0m\n\u001b[0;32m    227\u001b[0m         alert_text \u001b[39m=\u001b[39m value[\u001b[39m\"\u001b[39m\u001b[39malert\u001b[39m\u001b[39m\"\u001b[39m]\u001b[39m.\u001b[39mget(\u001b[39m\"\u001b[39m\u001b[39mtext\u001b[39m\u001b[39m\"\u001b[39m)\n\u001b[0;32m    228\u001b[0m     \u001b[39mraise\u001b[39;00m exception_class(message, screen, stacktrace, alert_text)  \u001b[39m# type: ignore[call-arg]  # mypy is not smart enough here\u001b[39;00m\n\u001b[1;32m--> 229\u001b[0m \u001b[39mraise\u001b[39;00m exception_class(message, screen, stacktrace)\n",
      "\u001b[1;31mNoSuchElementException\u001b[0m: Message: no such element: Unable to locate element: {\"method\":\"xpath\",\"selector\":\"//input[@class=\"search-global-typeahead__input\"]\"}\n  (Session info: chrome=119.0.6045.200); For documentation on this error, please visit: https://www.selenium.dev/documentation/webdriver/troubleshooting/errors#no-such-element-exception\nStacktrace:\n\tGetHandleVerifier [0x00007FF7FE8C82B2+55298]\n\t(No symbol) [0x00007FF7FE835E02]\n\t(No symbol) [0x00007FF7FE6F05AB]\n\t(No symbol) [0x00007FF7FE73175C]\n\t(No symbol) [0x00007FF7FE7318DC]\n\t(No symbol) [0x00007FF7FE76CBC7]\n\t(No symbol) [0x00007FF7FE7520EF]\n\t(No symbol) [0x00007FF7FE76AAA4]\n\t(No symbol) [0x00007FF7FE751E83]\n\t(No symbol) [0x00007FF7FE72670A]\n\t(No symbol) [0x00007FF7FE727964]\n\tGetHandleVerifier [0x00007FF7FEC40AAB+3694587]\n\tGetHandleVerifier [0x00007FF7FEC9728E+4048862]\n\tGetHandleVerifier [0x00007FF7FEC8F173+4015811]\n\tGetHandleVerifier [0x00007FF7FE9647D6+695590]\n\t(No symbol) [0x00007FF7FE840CE8]\n\t(No symbol) [0x00007FF7FE83CF34]\n\t(No symbol) [0x00007FF7FE83D062]\n\t(No symbol) [0x00007FF7FE82D3A3]\n\tBaseThreadInitThunk [0x00007FFC0B9B257D+29]\n\tRtlUserThreadStart [0x00007FFC0C4EAA58+40]\n"
     ]
    }
   ],
   "source": [
    "\n",
    "# ************************************************************************ Execution **************************************************************************\n",
    "\n",
    "\n",
    "with tqdm(total=len(df_output)) as pbar:\n",
    "    for index , row in df_output.iterrows():\n",
    "        company=row['Project']\n",
    "        url_company=row['url_base']\n",
    "        explore_tags(company, url_company, driver)\n",
    "        time.sleep(2)\n",
    "        pbar.update(1)\n",
    "        \n",
    "        \n"
   ]
  },
  {
   "cell_type": "code",
   "execution_count": 27,
   "metadata": {},
   "outputs": [
    {
     "data": {
      "text/plain": [
       "0"
      ]
     },
     "execution_count": 27,
     "metadata": {},
     "output_type": "execute_result"
    }
   ],
   "source": [
    "\n",
    "# ************************************************ Saving the results ****************************************************************************************** \n",
    "df_result=pd.DataFrame(data_dict)\n",
    "df_full=pd.merge(df_output, df_result, left_on='Project', right_on='company_name', how='left')\n"
   ]
  },
  {
   "cell_type": "code",
   "execution_count": 29,
   "metadata": {},
   "outputs": [],
   "source": [
    "df_output.to_excel(r'../../Output/Results_2/Summ_Linkedin.xlsx', index=False)"
   ]
  },
  {
   "cell_type": "code",
   "execution_count": null,
   "metadata": {},
   "outputs": [],
   "source": [
    "\n",
    "df_full['linkedin_profile']=df_full.apply(lambda row: row['linkedin_url'] if pd.isna(row['linkedin_profile']) else row['linkedin_profile'],axis=1)\n",
    "df_full.drop(columns=['company_name','linkedin_url'], inplace=True)\n",
    "\n",
    "df_glass=pd.read_excel(r\"C:\\Users\\alimes001\\Downloads\\sum__linkedin_output.xlsx\")\n",
    "\n",
    "df_integrated=pd.merge(df_full, df_glass, left_on='Company',right_on='company_source', how='left')\n",
    "df_integrated.drop(columns=['company_url_source','url_base_x','url_base_y','company_source'], inplace=True)"
   ]
  },
  {
   "cell_type": "code",
   "execution_count": 107,
   "metadata": {},
   "outputs": [
    {
     "data": {
      "text/plain": [
       "0"
      ]
     },
     "execution_count": 107,
     "metadata": {},
     "output_type": "execute_result"
    }
   ],
   "source": [
    "df_integrated.duplicated(subset=['Company','linkedin_profile']).sum()"
   ]
  },
  {
   "cell_type": "code",
   "execution_count": 106,
   "metadata": {},
   "outputs": [],
   "source": [
    "\n",
    "df_integrated.to_excel(r'../../Output/Results/Summ-Glassdoor.xlsx', index=False)"
   ]
  }
 ],
 "metadata": {
  "kernelspec": {
   "display_name": "PY311",
   "language": "python",
   "name": "python3"
  },
  "language_info": {
   "codemirror_mode": {
    "name": "ipython",
    "version": 3
   },
   "file_extension": ".py",
   "mimetype": "text/x-python",
   "name": "python",
   "nbconvert_exporter": "python",
   "pygments_lexer": "ipython3",
   "version": "3.11.5"
  }
 },
 "nbformat": 4,
 "nbformat_minor": 2
}
